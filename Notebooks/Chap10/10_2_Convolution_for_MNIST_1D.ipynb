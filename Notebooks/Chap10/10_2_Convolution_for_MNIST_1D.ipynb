{
  "nbformat": 4,
  "nbformat_minor": 0,
  "metadata": {
    "colab": {
      "provenance": []
    },
    "kernelspec": {
      "name": "python3",
      "display_name": "Python 3"
    },
    "language_info": {
      "name": "python"
    }
  },
  "cells": [
    {
      "cell_type": "markdown",
      "source": [
        "# **Notebook 10.2: Convolution for MNIST-1D**\n",
        "\n",
        "This notebook investigates a 1D convolutional network for MNIST-1D as in figure 10.7 and 10.8a.\n",
        "\n",
        "Work through the cells below, running each cell in turn. In various places you will see the words \"TODO\". Follow the instructions at these places and make predictions about what is going to happen or write code to complete the functions.\n",
        "\n",
        "Contact me at udlbookmail@gmail.com if you find any mistakes or have any suggestions.\n",
        "\n"
      ],
      "metadata": {
        "id": "t9vk9Elugvmi"
      }
    },
    {
      "cell_type": "code",
      "source": [
        "# Run this if you're in a Colab to install MNIST 1D repository\n",
        "!pip install git+https://github.com/greydanus/mnist1d"
      ],
      "metadata": {
        "id": "D5yLObtZCi9J",
        "outputId": "3304b2f0-9666-49cc-ab8f-746d0240270a",
        "colab": {
          "base_uri": "https://localhost:8080/"
        }
      },
      "execution_count": 1,
      "outputs": [
        {
          "output_type": "stream",
          "name": "stdout",
          "text": [
            "Collecting git+https://github.com/greydanus/mnist1d\n",
            "  Cloning https://github.com/greydanus/mnist1d to /tmp/pip-req-build-sdbyi4uw\n",
            "  Running command git clone --filter=blob:none --quiet https://github.com/greydanus/mnist1d /tmp/pip-req-build-sdbyi4uw\n",
            "  Resolved https://github.com/greydanus/mnist1d to commit 7878d96082abd200c546a07a4101fa90b30fdf7e\n",
            "  Installing build dependencies ... \u001b[?25l\u001b[?25hdone\n",
            "  Getting requirements to build wheel ... \u001b[?25l\u001b[?25hdone\n",
            "  Preparing metadata (pyproject.toml) ... \u001b[?25l\u001b[?25hdone\n",
            "Requirement already satisfied: requests in /usr/local/lib/python3.12/dist-packages (from mnist1d==0.0.2.post16) (2.32.4)\n",
            "Requirement already satisfied: numpy in /usr/local/lib/python3.12/dist-packages (from mnist1d==0.0.2.post16) (2.0.2)\n",
            "Requirement already satisfied: matplotlib in /usr/local/lib/python3.12/dist-packages (from mnist1d==0.0.2.post16) (3.10.0)\n",
            "Requirement already satisfied: scipy in /usr/local/lib/python3.12/dist-packages (from mnist1d==0.0.2.post16) (1.16.1)\n",
            "Requirement already satisfied: contourpy>=1.0.1 in /usr/local/lib/python3.12/dist-packages (from matplotlib->mnist1d==0.0.2.post16) (1.3.3)\n",
            "Requirement already satisfied: cycler>=0.10 in /usr/local/lib/python3.12/dist-packages (from matplotlib->mnist1d==0.0.2.post16) (0.12.1)\n",
            "Requirement already satisfied: fonttools>=4.22.0 in /usr/local/lib/python3.12/dist-packages (from matplotlib->mnist1d==0.0.2.post16) (4.59.2)\n",
            "Requirement already satisfied: kiwisolver>=1.3.1 in /usr/local/lib/python3.12/dist-packages (from matplotlib->mnist1d==0.0.2.post16) (1.4.9)\n",
            "Requirement already satisfied: packaging>=20.0 in /usr/local/lib/python3.12/dist-packages (from matplotlib->mnist1d==0.0.2.post16) (25.0)\n",
            "Requirement already satisfied: pillow>=8 in /usr/local/lib/python3.12/dist-packages (from matplotlib->mnist1d==0.0.2.post16) (11.3.0)\n",
            "Requirement already satisfied: pyparsing>=2.3.1 in /usr/local/lib/python3.12/dist-packages (from matplotlib->mnist1d==0.0.2.post16) (3.2.3)\n",
            "Requirement already satisfied: python-dateutil>=2.7 in /usr/local/lib/python3.12/dist-packages (from matplotlib->mnist1d==0.0.2.post16) (2.9.0.post0)\n",
            "Requirement already satisfied: charset_normalizer<4,>=2 in /usr/local/lib/python3.12/dist-packages (from requests->mnist1d==0.0.2.post16) (3.4.3)\n",
            "Requirement already satisfied: idna<4,>=2.5 in /usr/local/lib/python3.12/dist-packages (from requests->mnist1d==0.0.2.post16) (3.10)\n",
            "Requirement already satisfied: urllib3<3,>=1.21.1 in /usr/local/lib/python3.12/dist-packages (from requests->mnist1d==0.0.2.post16) (2.5.0)\n",
            "Requirement already satisfied: certifi>=2017.4.17 in /usr/local/lib/python3.12/dist-packages (from requests->mnist1d==0.0.2.post16) (2025.8.3)\n",
            "Requirement already satisfied: six>=1.5 in /usr/local/lib/python3.12/dist-packages (from python-dateutil>=2.7->matplotlib->mnist1d==0.0.2.post16) (1.17.0)\n",
            "Building wheels for collected packages: mnist1d\n",
            "  Building wheel for mnist1d (pyproject.toml) ... \u001b[?25l\u001b[?25hdone\n",
            "  Created wheel for mnist1d: filename=mnist1d-0.0.2.post16-py3-none-any.whl size=14665 sha256=3c361827ba754d701c48b19804774869d7813dc45ff0c67c88e637443aebbe41\n",
            "  Stored in directory: /tmp/pip-ephem-wheel-cache-4cymqip3/wheels/18/40/b6/29381fee9b4c80fdbc304d52bb065a7286bbcca5ca2b8737c0\n",
            "Successfully built mnist1d\n",
            "Installing collected packages: mnist1d\n",
            "Successfully installed mnist1d-0.0.2.post16\n"
          ]
        }
      ]
    },
    {
      "cell_type": "code",
      "source": [
        "import numpy as np\n",
        "import os\n",
        "import torch, torch.nn as nn\n",
        "from torch.utils.data import TensorDataset, DataLoader\n",
        "from torch.optim.lr_scheduler import StepLR\n",
        "import matplotlib.pyplot as plt\n",
        "import mnist1d\n",
        "import random"
      ],
      "metadata": {
        "id": "YrXWAH7sUWvU"
      },
      "execution_count": 19,
      "outputs": []
    },
    {
      "cell_type": "code",
      "source": [
        "args = mnist1d.data.get_dataset_args()\n",
        "data = mnist1d.data.get_dataset(args, path='./mnist1d_data.pkl', download=False, regenerate=False)\n",
        "\n",
        "# The training and test input and outputs are in\n",
        "# data['x'], data['y'], data['x_test'], and data['y_test']\n",
        "print(\"Examples in training set: {}\".format(len(data['y'])))\n",
        "print(\"Examples in test set: {}\".format(len(data['y_test'])))\n",
        "print(\"Length of each example: {}\".format(data['x'].shape[-1]))"
      ],
      "metadata": {
        "id": "twI72ZCrCt5z",
        "outputId": "6e6eb1bc-b173-4d4d-e4ab-a4ce298eaafe",
        "colab": {
          "base_uri": "https://localhost:8080/"
        }
      },
      "execution_count": 20,
      "outputs": [
        {
          "output_type": "stream",
          "name": "stdout",
          "text": [
            "Successfully loaded data from ./mnist1d_data.pkl\n",
            "Examples in training set: 4000\n",
            "Examples in test set: 1000\n",
            "Length of each example: 40\n"
          ]
        }
      ]
    },
    {
      "cell_type": "code",
      "source": [
        "# Load in the data\n",
        "train_data_x = data['x'].transpose()\n",
        "train_data_y = data['y']\n",
        "val_data_x = data['x_test'].transpose()\n",
        "val_data_y = data['y_test']\n",
        "# Print out sizes\n",
        "print(\"Train data: %d examples (columns), each of which has %d dimensions (rows)\"%((train_data_x.shape[1],train_data_x.shape[0])))\n",
        "print(\"Validation data: %d examples (columns), each of which has %d dimensions (rows)\"%((val_data_x.shape[1],val_data_x.shape[0])))"
      ],
      "metadata": {
        "id": "8bKADvLHbiV5",
        "outputId": "48e9934d-ef18-4037-ba78-f3c85313ee6e",
        "colab": {
          "base_uri": "https://localhost:8080/"
        }
      },
      "execution_count": 5,
      "outputs": [
        {
          "output_type": "stream",
          "name": "stdout",
          "text": [
            "Train data: 4000 examples (columns), each of which has 40 dimensions (rows)\n",
            "Validation data: 1000 examples (columns), each of which has 40 dimensions (rows)\n"
          ]
        }
      ]
    },
    {
      "cell_type": "markdown",
      "source": [
        "Define the network"
      ],
      "metadata": {
        "id": "_sFvRDGrl4qe"
      }
    },
    {
      "cell_type": "code",
      "source": [
        "# There are 40 input dimensions and 10 output dimensions for this data\n",
        "# The inputs correspond to the 40 offsets in the MNIST1D template.\n",
        "D_i = 40\n",
        "# The outputs correspond to the 10 digits\n",
        "D_o = 10\n",
        "\n",
        "\n",
        "# TODO Create a model with the following layers\n",
        "# 1. Convolutional layer, (input=length 40 and 1 channel, kernel size 3, stride 2, padding=\"valid\", 15 output channels )\n",
        "# 2. ReLU\n",
        "# 3. Convolutional layer, (input=length 19 and 15 channels, kernel size 3, stride 2, padding=\"valid\", 15 output channels )\n",
        "# 4. ReLU\n",
        "# 5. Convolutional layer, (input=length 9 and 15 channels, kernel size 3, stride 2, padding=\"valid\", 15 output channels)\n",
        "# 6. ReLU\n",
        "# 7. Flatten (converts 4x15) to length 60\n",
        "# 8. Linear layer (input size = 60, output size = 10)\n",
        "# References:\n",
        "# https://pytorch.org/docs/1.13/generated/torch.nn.Conv1d.html?highlight=conv1d#torch.nn.Conv1d\n",
        "# https://pytorch.org/docs/stable/generated/torch.nn.Flatten.html\n",
        "# https://pytorch.org/docs/1.13/generated/torch.nn.Linear.html?highlight=linear#torch.nn.Linear\n",
        "\n",
        "# NOTE THAT THE CONVOLUTIONAL LAYERS NEED TO TAKE THE NUMBER OF INPUT CHANNELS AS A PARAMETER\n",
        "# AND NOT THE INPUT SIZE.\n",
        "\n",
        "# Replace the following function:\n",
        "model = nn.Sequential(\n",
        "  nn.Flatten(),\n",
        "  nn.Linear(40, 100),\n",
        "  nn.ReLU(),\n",
        "  nn.Linear(100, 100),\n",
        "  nn.ReLU(),\n",
        "  nn.Linear(100, 10)\n",
        "  )"
      ],
      "metadata": {
        "id": "FslroPJJffrh"
      },
      "execution_count": 21,
      "outputs": []
    },
    {
      "cell_type": "code",
      "source": [
        "class doCNN(nn.Module):\n",
        "  def __init__(self):\n",
        "    super(doCNN, self).__init__()\n",
        "    self.conv1 = nn.Conv1d(in_channels=1, out_channels=15, kernel_size=3, stride=2, padding=\"valid\")\n",
        "    self.conv2 = nn.Conv1d(in_channels=15, out_channels=15, kernel_size=3, stride=2, padding=\"valid\")\n",
        "    self.conv3 = nn.Conv1d(in_channels=15, out_channels=15, kernel_size=3, stride=2, padding=\"valid\")\n",
        "    self.relu = nn.ReLU()\n",
        "    self.flatten = nn.Flatten()\n",
        "    self.linear = nn.Linear(60, 10)\n",
        "\n",
        "  def forward(self, x):\n",
        "    x = self.relu(self.conv1(x))\n",
        "    x = self.relu(self.conv2(x))\n",
        "    x = self.relu(self.conv3(x))\n",
        "    x = self.flatten(x)\n",
        "    x = self.linear(x)   # return logits\n",
        "    return x"
      ],
      "metadata": {
        "id": "9WoYWQ3us-ex"
      },
      "execution_count": 28,
      "outputs": []
    },
    {
      "cell_type": "code",
      "source": [
        "model = doCNN()"
      ],
      "metadata": {
        "id": "fUAjGmdKt_Jp"
      },
      "execution_count": 29,
      "outputs": []
    },
    {
      "cell_type": "code",
      "source": [
        "# He initialization of weights\n",
        "def weights_init(layer_in):\n",
        "  if isinstance(layer_in, nn.Linear):\n",
        "    nn.init.kaiming_uniform_(layer_in.weight)\n",
        "    layer_in.bias.data.fill_(0.0)"
      ],
      "metadata": {
        "id": "YgLaex1pfhqz"
      },
      "execution_count": 30,
      "outputs": []
    },
    {
      "cell_type": "code",
      "source": [
        "# choose cross entropy loss function (equation 5.24 in the loss notes)\n",
        "loss_function = nn.CrossEntropyLoss()\n",
        "# construct SGD optimizer and initialize learning rate and momentum\n",
        "optimizer = torch.optim.SGD(model.parameters(), lr = 0.05, momentum=0.9)\n",
        "# object that decreases learning rate by half every 20 epochs\n",
        "scheduler = StepLR(optimizer, step_size=20, gamma=0.5)\n",
        "# create 100 dummy data points and store in data loader class\n",
        "x_train = torch.tensor(train_data_x.transpose().astype('float32'))\n",
        "y_train = torch.tensor(train_data_y.astype('long')).long()\n",
        "x_val= torch.tensor(val_data_x.transpose().astype('float32'))\n",
        "y_val = torch.tensor(val_data_y.astype('long')).long()\n",
        "\n",
        "# load the data into a class that creates the batches\n",
        "data_loader = DataLoader(TensorDataset(x_train,y_train), batch_size=100, shuffle=True, worker_init_fn=np.random.seed(1))\n",
        "\n",
        "# Initialize model weights\n",
        "model.apply(weights_init)\n",
        "\n",
        "# loop over the dataset n_epoch times\n",
        "n_epoch = 100\n",
        "# store the loss and the % correct at each epoch\n",
        "losses_train = np.zeros((n_epoch))\n",
        "errors_train = np.zeros((n_epoch))\n",
        "losses_val = np.zeros((n_epoch))\n",
        "errors_val = np.zeros((n_epoch))\n",
        "\n",
        "for epoch in range(n_epoch):\n",
        "  # loop over batches\n",
        "  for i, data in enumerate(data_loader):\n",
        "    # retrieve inputs and labels for this batch\n",
        "    x_batch, y_batch = data\n",
        "    # zero the parameter gradients\n",
        "    optimizer.zero_grad()\n",
        "    # forward pass -- calculate model output\n",
        "    pred = model(x_batch[:,None,:])\n",
        "    # compute the loss\n",
        "    loss = loss_function(pred, y_batch)\n",
        "    # backward pass\n",
        "    loss.backward()\n",
        "    # SGD update\n",
        "    optimizer.step()\n",
        "\n",
        "  # Run whole dataset to get statistics -- normally wouldn't do this\n",
        "  pred_train = model(x_train[:,None,:])\n",
        "  pred_val = model(x_val[:,None,:])\n",
        "  _, predicted_train_class = torch.max(pred_train.data, 1)\n",
        "  _, predicted_val_class = torch.max(pred_val.data, 1)\n",
        "  errors_train[epoch] = 100 - 100 * (predicted_train_class == y_train).float().sum() / len(y_train)\n",
        "  errors_val[epoch]= 100 - 100 * (predicted_val_class == y_val).float().sum() / len(y_val)\n",
        "  losses_train[epoch] = loss_function(pred_train, y_train).item()\n",
        "  losses_val[epoch]= loss_function(pred_val, y_val).item()\n",
        "  print(f'Epoch {epoch:5d}, train loss {losses_train[epoch]:.6f}, train error {errors_train[epoch]:3.2f},  val loss {losses_val[epoch]:.6f}, percent error {errors_val[epoch]:3.2f}')\n",
        "\n",
        "  # tell scheduler to consider updating learning rate\n",
        "  scheduler.step()\n",
        "\n",
        "# Plot the results\n",
        "fig, ax = plt.subplots()\n",
        "ax.plot(errors_train,'r-',label='train')\n",
        "ax.plot(errors_val,'b-',label='validation')\n",
        "ax.set_ylim(0,100); ax.set_xlim(0,n_epoch)\n",
        "ax.set_xlabel('Epoch'); ax.set_ylabel('Error')\n",
        "ax.set_title('Part I: Validation Result %3.2f'%(errors_val[-1]))\n",
        "ax.legend()\n",
        "plt.show()"
      ],
      "metadata": {
        "id": "NYw8I_3mmX5c",
        "outputId": "58b176ac-3acd-4a23-b66b-374f4db367ef",
        "colab": {
          "base_uri": "https://localhost:8080/",
          "height": 1000
        }
      },
      "execution_count": 31,
      "outputs": [
        {
          "output_type": "stream",
          "name": "stdout",
          "text": [
            "Epoch     0, train loss 1.981485, train error 77.90,  val loss 1.977089, percent error 79.90\n",
            "Epoch     1, train loss 1.677904, train error 66.30,  val loss 1.706503, percent error 68.20\n",
            "Epoch     2, train loss 1.439972, train error 56.95,  val loss 1.459948, percent error 58.60\n",
            "Epoch     3, train loss 1.326873, train error 54.35,  val loss 1.359420, percent error 59.40\n",
            "Epoch     4, train loss 1.284285, train error 51.45,  val loss 1.300797, percent error 54.30\n",
            "Epoch     5, train loss 1.239582, train error 50.28,  val loss 1.253793, percent error 52.00\n",
            "Epoch     6, train loss 1.161369, train error 47.22,  val loss 1.188748, percent error 49.70\n",
            "Epoch     7, train loss 1.069880, train error 42.72,  val loss 1.078317, percent error 43.60\n",
            "Epoch     8, train loss 0.966477, train error 39.35,  val loss 1.012682, percent error 42.30\n",
            "Epoch     9, train loss 0.892026, train error 36.00,  val loss 0.922748, percent error 38.90\n",
            "Epoch    10, train loss 0.807478, train error 32.60,  val loss 0.845865, percent error 33.40\n",
            "Epoch    11, train loss 0.898479, train error 35.15,  val loss 0.937500, percent error 35.90\n",
            "Epoch    12, train loss 0.698475, train error 27.35,  val loss 0.751448, percent error 29.80\n",
            "Epoch    13, train loss 0.628819, train error 24.70,  val loss 0.719679, percent error 29.00\n",
            "Epoch    14, train loss 0.562616, train error 21.62,  val loss 0.685734, percent error 25.90\n",
            "Epoch    15, train loss 0.527156, train error 20.10,  val loss 0.616494, percent error 23.60\n",
            "Epoch    16, train loss 0.508523, train error 19.70,  val loss 0.645706, percent error 23.50\n",
            "Epoch    17, train loss 0.442021, train error 16.43,  val loss 0.582690, percent error 21.80\n",
            "Epoch    18, train loss 0.509135, train error 19.62,  val loss 0.699224, percent error 23.20\n",
            "Epoch    19, train loss 0.399216, train error 14.55,  val loss 0.568032, percent error 18.70\n",
            "Epoch    20, train loss 0.272460, train error 9.22,  val loss 0.425757, percent error 15.00\n",
            "Epoch    21, train loss 0.255498, train error 8.28,  val loss 0.409805, percent error 14.40\n",
            "Epoch    22, train loss 0.255064, train error 8.85,  val loss 0.417497, percent error 14.30\n",
            "Epoch    23, train loss 0.228304, train error 7.75,  val loss 0.415497, percent error 14.80\n",
            "Epoch    24, train loss 0.189503, train error 6.25,  val loss 0.373492, percent error 12.10\n",
            "Epoch    25, train loss 0.200457, train error 6.68,  val loss 0.420054, percent error 13.80\n",
            "Epoch    26, train loss 0.167962, train error 5.28,  val loss 0.355982, percent error 12.10\n",
            "Epoch    27, train loss 0.171562, train error 5.85,  val loss 0.370632, percent error 11.90\n",
            "Epoch    28, train loss 0.154749, train error 4.65,  val loss 0.335029, percent error 10.90\n",
            "Epoch    29, train loss 0.158615, train error 5.28,  val loss 0.365664, percent error 11.80\n",
            "Epoch    30, train loss 0.135217, train error 4.05,  val loss 0.339348, percent error 12.20\n",
            "Epoch    31, train loss 0.130842, train error 3.85,  val loss 0.346538, percent error 9.90\n",
            "Epoch    32, train loss 0.119820, train error 3.40,  val loss 0.350972, percent error 11.30\n",
            "Epoch    33, train loss 0.116749, train error 3.68,  val loss 0.359959, percent error 10.70\n",
            "Epoch    34, train loss 0.111981, train error 3.68,  val loss 0.321143, percent error 10.00\n",
            "Epoch    35, train loss 0.109267, train error 3.40,  val loss 0.339504, percent error 10.00\n",
            "Epoch    36, train loss 0.125247, train error 4.40,  val loss 0.359763, percent error 10.40\n",
            "Epoch    37, train loss 0.104699, train error 3.12,  val loss 0.329785, percent error 9.70\n",
            "Epoch    38, train loss 0.095725, train error 2.78,  val loss 0.342577, percent error 9.90\n",
            "Epoch    39, train loss 0.089481, train error 2.47,  val loss 0.344430, percent error 9.70\n",
            "Epoch    40, train loss 0.080350, train error 2.05,  val loss 0.317881, percent error 9.20\n",
            "Epoch    41, train loss 0.073095, train error 1.80,  val loss 0.313330, percent error 8.50\n",
            "Epoch    42, train loss 0.072166, train error 1.78,  val loss 0.314920, percent error 9.30\n",
            "Epoch    43, train loss 0.071176, train error 1.65,  val loss 0.317705, percent error 8.90\n",
            "Epoch    44, train loss 0.070220, train error 1.88,  val loss 0.325179, percent error 8.80\n",
            "Epoch    45, train loss 0.069456, train error 1.78,  val loss 0.342354, percent error 9.20\n",
            "Epoch    46, train loss 0.064902, train error 1.62,  val loss 0.326487, percent error 8.80\n",
            "Epoch    47, train loss 0.063946, train error 1.45,  val loss 0.327309, percent error 9.10\n",
            "Epoch    48, train loss 0.064342, train error 1.55,  val loss 0.323458, percent error 8.70\n",
            "Epoch    49, train loss 0.059576, train error 1.30,  val loss 0.327991, percent error 8.70\n",
            "Epoch    50, train loss 0.061891, train error 1.43,  val loss 0.325918, percent error 9.40\n",
            "Epoch    51, train loss 0.061024, train error 1.45,  val loss 0.327034, percent error 9.10\n",
            "Epoch    52, train loss 0.060865, train error 1.47,  val loss 0.333845, percent error 8.80\n",
            "Epoch    53, train loss 0.059839, train error 1.40,  val loss 0.325968, percent error 9.30\n",
            "Epoch    54, train loss 0.055575, train error 1.38,  val loss 0.334870, percent error 8.70\n",
            "Epoch    55, train loss 0.054241, train error 1.15,  val loss 0.333778, percent error 8.50\n",
            "Epoch    56, train loss 0.053409, train error 1.15,  val loss 0.343652, percent error 9.00\n",
            "Epoch    57, train loss 0.059780, train error 1.57,  val loss 0.352631, percent error 9.50\n",
            "Epoch    58, train loss 0.055189, train error 1.38,  val loss 0.333209, percent error 8.60\n",
            "Epoch    59, train loss 0.049581, train error 1.00,  val loss 0.354709, percent error 8.20\n",
            "Epoch    60, train loss 0.047546, train error 0.90,  val loss 0.342963, percent error 8.60\n",
            "Epoch    61, train loss 0.047461, train error 0.85,  val loss 0.346131, percent error 8.70\n",
            "Epoch    62, train loss 0.047298, train error 1.10,  val loss 0.346795, percent error 8.40\n",
            "Epoch    63, train loss 0.045807, train error 0.93,  val loss 0.349806, percent error 8.50\n",
            "Epoch    64, train loss 0.045292, train error 0.93,  val loss 0.347031, percent error 8.60\n",
            "Epoch    65, train loss 0.045915, train error 1.00,  val loss 0.348760, percent error 8.30\n",
            "Epoch    66, train loss 0.044566, train error 0.80,  val loss 0.346827, percent error 8.60\n",
            "Epoch    67, train loss 0.044677, train error 0.88,  val loss 0.352224, percent error 8.40\n",
            "Epoch    68, train loss 0.043507, train error 0.93,  val loss 0.355054, percent error 8.60\n",
            "Epoch    69, train loss 0.043168, train error 0.88,  val loss 0.356086, percent error 8.70\n",
            "Epoch    70, train loss 0.043511, train error 0.93,  val loss 0.346778, percent error 8.70\n",
            "Epoch    71, train loss 0.042167, train error 0.85,  val loss 0.354351, percent error 9.10\n",
            "Epoch    72, train loss 0.043481, train error 0.95,  val loss 0.364094, percent error 8.80\n",
            "Epoch    73, train loss 0.042940, train error 0.85,  val loss 0.358053, percent error 8.30\n",
            "Epoch    74, train loss 0.041104, train error 0.80,  val loss 0.351118, percent error 9.10\n",
            "Epoch    75, train loss 0.040598, train error 0.80,  val loss 0.354801, percent error 9.00\n",
            "Epoch    76, train loss 0.039934, train error 0.70,  val loss 0.355331, percent error 8.80\n",
            "Epoch    77, train loss 0.042439, train error 0.85,  val loss 0.361768, percent error 8.10\n",
            "Epoch    78, train loss 0.039355, train error 0.68,  val loss 0.359047, percent error 8.70\n",
            "Epoch    79, train loss 0.039935, train error 0.85,  val loss 0.368585, percent error 8.70\n",
            "Epoch    80, train loss 0.039482, train error 0.72,  val loss 0.356729, percent error 8.40\n",
            "Epoch    81, train loss 0.038791, train error 0.80,  val loss 0.360456, percent error 9.10\n",
            "Epoch    82, train loss 0.038164, train error 0.70,  val loss 0.362973, percent error 8.80\n",
            "Epoch    83, train loss 0.037990, train error 0.68,  val loss 0.362341, percent error 8.80\n",
            "Epoch    84, train loss 0.037825, train error 0.65,  val loss 0.365934, percent error 8.70\n",
            "Epoch    85, train loss 0.038289, train error 0.70,  val loss 0.364056, percent error 8.70\n",
            "Epoch    86, train loss 0.037466, train error 0.70,  val loss 0.365429, percent error 8.80\n",
            "Epoch    87, train loss 0.037517, train error 0.65,  val loss 0.363972, percent error 8.90\n",
            "Epoch    88, train loss 0.036968, train error 0.65,  val loss 0.366068, percent error 8.60\n",
            "Epoch    89, train loss 0.037297, train error 0.75,  val loss 0.370103, percent error 8.60\n",
            "Epoch    90, train loss 0.037129, train error 0.62,  val loss 0.365823, percent error 8.60\n",
            "Epoch    91, train loss 0.036693, train error 0.70,  val loss 0.367420, percent error 9.00\n",
            "Epoch    92, train loss 0.036530, train error 0.68,  val loss 0.367145, percent error 8.90\n",
            "Epoch    93, train loss 0.036164, train error 0.68,  val loss 0.368324, percent error 8.80\n",
            "Epoch    94, train loss 0.036628, train error 0.70,  val loss 0.375816, percent error 9.00\n",
            "Epoch    95, train loss 0.036202, train error 0.70,  val loss 0.367858, percent error 8.80\n",
            "Epoch    96, train loss 0.035915, train error 0.68,  val loss 0.369360, percent error 9.00\n",
            "Epoch    97, train loss 0.035480, train error 0.65,  val loss 0.371931, percent error 8.80\n",
            "Epoch    98, train loss 0.035272, train error 0.68,  val loss 0.370685, percent error 8.90\n",
            "Epoch    99, train loss 0.035254, train error 0.68,  val loss 0.371663, percent error 8.80\n"
          ]
        },
        {
          "output_type": "display_data",
          "data": {
            "text/plain": [
              "<Figure size 640x480 with 1 Axes>"
            ],
            "image/png": "[encoded data removed]"
          },
          "metadata": {}
        }
      ]
    }
  ]
}